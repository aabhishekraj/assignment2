{
 "cells": [
  {
   "cell_type": "code",
   "execution_count": null,
   "id": "2d767a58-49f6-43a4-af33-22e573dbb597",
   "metadata": {},
   "outputs": [],
   "source": [
    "#Q1\n",
    "-To add comments that spans only a single line, we can use '#' symbol followed by the comment,\n",
    "anything after '#' symbol is considered a comment.\n",
    "# this is an example of single line comment.\n",
    "\n",
    "-To add a multiline comment, we can enclose the text within triple quotes ' \"\"\" ', it is often referred to as a docstring.\n",
    "\"\"\" this is an example of \n",
    "multiline comment in python\"\"\"\n",
    "\n",
    "There are primarily two types of comment :\n",
    "    Single-Line Comments and Multi-Line Comments\n",
    "    which are discussed above."
   ]
  },
  {
   "cell_type": "code",
   "execution_count": null,
   "id": "4eec0f54-bbc2-4230-9572-d80d054dd147",
   "metadata": {},
   "outputs": [],
   "source": [
    "#Q2\n",
    "In Python, variables are used to store and manipulate data,\n",
    "it is essentially a name that represents a value or an object in the memory of your computer. \n",
    "The data stored inside a variable can be of different data types: numeric,strings,boolean type,lists,tuples,dictionaries,sets. \n",
    "\n",
    "To declare a variable and assign a value to it, you use the following format:\n",
    "    variable_name = value\n",
    "for example:\n",
    "    name=\"abhishek\"\n",
    "    age=19\n",
    "in the above example,we declared two variables 'name' and 'age'."
   ]
  },
  {
   "cell_type": "code",
   "execution_count": null,
   "id": "cf070025-2a14-4f70-8714-9f54385b836b",
   "metadata": {},
   "outputs": [],
   "source": [
    "#Q3\n",
    " We can convert one data type to another using type conversion functions or methods. \n",
    "    1.int(): Converts a value to an integer data type.\n",
    "    eg. num_str = \"10\"\n",
    "        num_int = int(num_str)\n",
    "    2.float(): Converts a value to a floating-point data type.\n",
    "    eg.num_str = \"3.14\"\n",
    "       num_float = float(num_str)\n",
    "    3.str(): Converts a value to a string data type.\n",
    "    eg.num_int = 10\n",
    "       num_str = str(num_int)\n",
    "    4.list(): Converts a sequence (such as a string or tuple) to a list data type.\n",
    "    eg.text = \"Hello\"\n",
    "       text_list = list(text) \n",
    "    5.tuple(): Converts a sequence (such as a string or list) to a tuple data type.\n",
    "    eg.text = \"Hello\"\n",
    "    text_tuple = tuple(text) \n",
    "    6.set(): Converts an iterable (such as a list or tuple) to a set data type.\n",
    "    eg.numbers = [1, 2, 3, 3, 4, 4, 5]\n",
    "    unique_numbers = set(numbers)"
   ]
  },
  {
   "cell_type": "code",
   "execution_count": null,
   "id": "4570d4c6-1b08-4916-a0f0-7a3b17a7d872",
   "metadata": {},
   "outputs": [],
   "source": [
    "#Q4\n",
    "-To write and execute a Python script from the command line, follow these steps:\n",
    "    1.Open a text editor and create a new file. Write your Python code in this file and save it with a .py extension.\n",
    "    For example, you can create a file named script.py.\n",
    "    \n",
    "    2.Open your command line interface or terminal. Navigate to the directory\n",
    "    where you saved the Python script using the cd command. \n",
    "    \n",
    "    3.Once you're in the correct directory, you can execute the Python script\n",
    "    using the python command followed by the script's filename. \n",
    "    \n",
    "    4.Press the Enter/Return key to execute the command. \n",
    "    The Python interpreter will read your script file and execute the code within it."
   ]
  },
  {
   "cell_type": "code",
   "execution_count": 1,
   "id": "4e1d2940-96fb-4800-ba5d-57ebe2e4d039",
   "metadata": {},
   "outputs": [
    {
     "data": {
      "text/plain": [
       "[2, 3]"
      ]
     },
     "execution_count": 1,
     "metadata": {},
     "output_type": "execute_result"
    }
   ],
   "source": [
    "#Q5\n",
    "my_list=[1,2,3,4,5]\n",
    "my_list[1:3:1]"
   ]
  },
  {
   "cell_type": "code",
   "execution_count": null,
   "id": "df038509-bbc6-459f-bff2-d844945333af",
   "metadata": {},
   "outputs": [],
   "source": [
    "#Q6\n",
    "-In mathematics, a complex number is a number that comprises both a real part and an imaginary part.\n",
    "It is written in the form \"a + bi,\" where \"a\" represents the real part,\n",
    "\"b\" represents the imaginary part, and \"i\" is the imaginary unit defined as the square root of -1.\n",
    "In Python, complex numbers are represented using the 'complex()' data type, and written in the form of \"a + bj\"  where \"a\" represents the real part,\n",
    "\"b\" represents the imaginary part\n",
    "You can create a complex number by using the complex() function or by directly specifying the real and imaginary parts.\n",
    "eg."
   ]
  },
  {
   "cell_type": "code",
   "execution_count": 2,
   "id": "da04fc79-7ab3-4edc-b002-dcba9c77138c",
   "metadata": {},
   "outputs": [
    {
     "data": {
      "text/plain": [
       "(2+3j)"
      ]
     },
     "execution_count": 2,
     "metadata": {},
     "output_type": "execute_result"
    }
   ],
   "source": [
    "complex(2,3)"
   ]
  },
  {
   "cell_type": "code",
   "execution_count": null,
   "id": "4e672172-081f-400b-a9c6-0b8985592037",
   "metadata": {},
   "outputs": [],
   "source": [
    "#Q7\n",
    "-The correct way to declare a variable named age withe its value being 25 is \n",
    "variable_age = 25"
   ]
  },
  {
   "cell_type": "code",
   "execution_count": 3,
   "id": "7109300c-7e59-4f21-b49c-319fe51d5d4f",
   "metadata": {},
   "outputs": [
    {
     "data": {
      "text/plain": [
       "float"
      ]
     },
     "execution_count": 3,
     "metadata": {},
     "output_type": "execute_result"
    }
   ],
   "source": [
    "#Q8\n",
    "price = 9.99\n",
    "type(price)"
   ]
  },
  {
   "cell_type": "code",
   "execution_count": null,
   "id": "ac421709-0dac-4540-801e-1bffeba0c068",
   "metadata": {},
   "outputs": [],
   "source": [
    "so the above variable \"name\" belongs to the float data type."
   ]
  },
  {
   "cell_type": "code",
   "execution_count": 4,
   "id": "80138c45-eb29-4a12-b7f6-793e78a6f329",
   "metadata": {},
   "outputs": [
    {
     "name": "stdout",
     "output_type": "stream",
     "text": [
      "abhishek raj\n"
     ]
    }
   ],
   "source": [
    "#Q9\n",
    "name = \"abhishek raj\"\n",
    "print(name)"
   ]
  },
  {
   "cell_type": "code",
   "execution_count": 7,
   "id": "7d5d4fe6-c006-43f3-964b-b718da09a4d8",
   "metadata": {},
   "outputs": [
    {
     "data": {
      "text/plain": [
       "'World'"
      ]
     },
     "execution_count": 7,
     "metadata": {},
     "output_type": "execute_result"
    }
   ],
   "source": [
    "#Q10\n",
    "given_str = \"Hello, World!\"\n",
    "substring = given_str[7:12:1]\n",
    "substring"
   ]
  },
  {
   "cell_type": "code",
   "execution_count": 11,
   "id": "e2d614dd-7c0a-4ba0-b005-2b79f7927ddd",
   "metadata": {},
   "outputs": [
    {
     "name": "stdin",
     "output_type": "stream",
     "text": [
      "Are you a student Yes\n"
     ]
    },
    {
     "name": "stdout",
     "output_type": "stream",
     "text": [
      "True\n"
     ]
    }
   ],
   "source": [
    "#Q11\n",
    "is_student = input(\"Are you a student\")\n",
    "if is_student == \"Yes\":\n",
    "    print(\"True\")\n",
    "else:\n",
    "    print(\"False\")"
   ]
  },
  {
   "cell_type": "code",
   "execution_count": null,
   "id": "6b044946-35c9-4e96-b8a1-facc8c437607",
   "metadata": {},
   "outputs": [],
   "source": []
  }
 ],
 "metadata": {
  "kernelspec": {
   "display_name": "Python 3 (ipykernel)",
   "language": "python",
   "name": "python3"
  },
  "language_info": {
   "codemirror_mode": {
    "name": "ipython",
    "version": 3
   },
   "file_extension": ".py",
   "mimetype": "text/x-python",
   "name": "python",
   "nbconvert_exporter": "python",
   "pygments_lexer": "ipython3",
   "version": "3.10.8"
  }
 },
 "nbformat": 4,
 "nbformat_minor": 5
}
